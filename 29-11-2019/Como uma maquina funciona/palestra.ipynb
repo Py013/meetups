{
 "cells": [
  {
   "cell_type": "markdown",
   "metadata": {},
   "source": [
    " # Regressão em dados de NIRS (Near-Infrared Spectroscopy)\n",
    "\n",
    " ## Lidando com dados de alta dimensionalidade\n",
    "\n",
    " Faremos a predição da quantidade de amido no milho através de dados de espectroscopia de infravermelho próximo.\n",
    "\n",
    " Utilizaremos uma base de dados adaptada de [eigenvector](http://www.eigenvector.com/data/Corn/). A base conta com informações de 80 amostras de milho que foram medidas com 3 sensores NIRS entre as frequências de 1100-2498 nm, em intervalos de 2 nm. Assim, a base final conta com 2100 features, 80 amostras e 1 atributo preditivo, que no nosso caso, é a quantidade de amido.\n",
    "\n",
    " Nesta prática veremos como mesmo algorítmos sofisticados de AM podem ter uma performance insatisfatória caso um bom pré-processamento não seja aplicado.\n",
    "\n",
    " Iniciamos importando algumas bibliotecas úteis!"
   ]
  },
  {
   "cell_type": "code",
   "execution_count": 1,
   "metadata": {},
   "outputs": [],
   "source": [
    "import numpy as np # Manipulação matricial, operações algébricas e estatísticas vetorizadas\n",
    "import pandas as pd # Leitura de dados\n",
    "from sklearn.tree import DecisionTreeRegressor  # CART\n",
    "from sklearn.preprocessing import StandardScaler # Normalização de dados\n",
    "\n",
    "np.random.seed(0) # Seed de geração de números aleatórios para garantir reproducibilidade"
   ]
  },
  {
   "cell_type": "markdown",
   "metadata": {},
   "source": [
    " ### Leitura dos dados"
   ]
  },
  {
   "cell_type": "code",
   "execution_count": 2,
   "metadata": {},
   "outputs": [],
   "source": [
    "data = pd.read_csv('./starch_corn.csv')"
   ]
  },
  {
   "cell_type": "markdown",
   "metadata": {},
   "source": [
    " ### Shuffle dos dados (embaralhamento)\n",
    " Uma boa prática para dados que não tem dependência temporal (ou não deveriam ter :P)."
   ]
  },
  {
   "cell_type": "code",
   "execution_count": 3,
   "metadata": {},
   "outputs": [
    {
     "name": "stdout",
     "output_type": "stream",
     "text": [
      "Dimensões: (80, 2101)\n"
     ]
    },
    {
     "data": {
      "text/html": [
       "<div>\n",
       "<style scoped>\n",
       "    .dataframe tbody tr th:only-of-type {\n",
       "        vertical-align: middle;\n",
       "    }\n",
       "\n",
       "    .dataframe tbody tr th {\n",
       "        vertical-align: top;\n",
       "    }\n",
       "\n",
       "    .dataframe thead th {\n",
       "        text-align: right;\n",
       "    }\n",
       "</style>\n",
       "<table border=\"1\" class=\"dataframe\">\n",
       "  <thead>\n",
       "    <tr style=\"text-align: right;\">\n",
       "      <th></th>\n",
       "      <th>m5_wl1100nm</th>\n",
       "      <th>m5_wl1102nm</th>\n",
       "      <th>m5_wl1104nm</th>\n",
       "      <th>m5_wl1106nm</th>\n",
       "      <th>m5_wl1108nm</th>\n",
       "      <th>m5_wl1110nm</th>\n",
       "      <th>m5_wl1112nm</th>\n",
       "      <th>m5_wl1114nm</th>\n",
       "      <th>m5_wl1116nm</th>\n",
       "      <th>m5_wl1118nm</th>\n",
       "      <th>...</th>\n",
       "      <th>mp6_wl2482nm</th>\n",
       "      <th>mp6_wl2484nm</th>\n",
       "      <th>mp6_wl2486nm</th>\n",
       "      <th>mp6_wl2488nm</th>\n",
       "      <th>mp6_wl2490nm</th>\n",
       "      <th>mp6_wl2492nm</th>\n",
       "      <th>mp6_wl2494nm</th>\n",
       "      <th>mp6_wl2496nm</th>\n",
       "      <th>mp6_wl2498nm</th>\n",
       "      <th>starch</th>\n",
       "    </tr>\n",
       "  </thead>\n",
       "  <tbody>\n",
       "    <tr>\n",
       "      <td>50</td>\n",
       "      <td>0.046298</td>\n",
       "      <td>0.046143</td>\n",
       "      <td>0.046014</td>\n",
       "      <td>0.045938</td>\n",
       "      <td>0.045929</td>\n",
       "      <td>0.045919</td>\n",
       "      <td>0.045973</td>\n",
       "      <td>0.046115</td>\n",
       "      <td>0.046358</td>\n",
       "      <td>0.046696</td>\n",
       "      <td>...</td>\n",
       "      <td>0.692214</td>\n",
       "      <td>0.693482</td>\n",
       "      <td>0.694446</td>\n",
       "      <td>0.695209</td>\n",
       "      <td>0.695613</td>\n",
       "      <td>0.695715</td>\n",
       "      <td>0.695498</td>\n",
       "      <td>0.695084</td>\n",
       "      <td>0.694521</td>\n",
       "      <td>64.915</td>\n",
       "    </tr>\n",
       "    <tr>\n",
       "      <td>27</td>\n",
       "      <td>0.053283</td>\n",
       "      <td>0.053084</td>\n",
       "      <td>0.053001</td>\n",
       "      <td>0.052958</td>\n",
       "      <td>0.052980</td>\n",
       "      <td>0.052963</td>\n",
       "      <td>0.053088</td>\n",
       "      <td>0.053320</td>\n",
       "      <td>0.053633</td>\n",
       "      <td>0.054047</td>\n",
       "      <td>...</td>\n",
       "      <td>0.777386</td>\n",
       "      <td>0.778539</td>\n",
       "      <td>0.779503</td>\n",
       "      <td>0.780110</td>\n",
       "      <td>0.780486</td>\n",
       "      <td>0.780510</td>\n",
       "      <td>0.780258</td>\n",
       "      <td>0.779764</td>\n",
       "      <td>0.779079</td>\n",
       "      <td>65.601</td>\n",
       "    </tr>\n",
       "    <tr>\n",
       "      <td>30</td>\n",
       "      <td>0.032143</td>\n",
       "      <td>0.032039</td>\n",
       "      <td>0.031920</td>\n",
       "      <td>0.031856</td>\n",
       "      <td>0.031851</td>\n",
       "      <td>0.031851</td>\n",
       "      <td>0.031935</td>\n",
       "      <td>0.032040</td>\n",
       "      <td>0.032261</td>\n",
       "      <td>0.032582</td>\n",
       "      <td>...</td>\n",
       "      <td>0.644735</td>\n",
       "      <td>0.645998</td>\n",
       "      <td>0.647045</td>\n",
       "      <td>0.647724</td>\n",
       "      <td>0.648107</td>\n",
       "      <td>0.648262</td>\n",
       "      <td>0.648119</td>\n",
       "      <td>0.647787</td>\n",
       "      <td>0.647291</td>\n",
       "      <td>64.420</td>\n",
       "    </tr>\n",
       "    <tr>\n",
       "      <td>77</td>\n",
       "      <td>0.049717</td>\n",
       "      <td>0.049573</td>\n",
       "      <td>0.049471</td>\n",
       "      <td>0.049391</td>\n",
       "      <td>0.049386</td>\n",
       "      <td>0.049382</td>\n",
       "      <td>0.049458</td>\n",
       "      <td>0.049639</td>\n",
       "      <td>0.049883</td>\n",
       "      <td>0.050283</td>\n",
       "      <td>...</td>\n",
       "      <td>0.692305</td>\n",
       "      <td>0.693519</td>\n",
       "      <td>0.694574</td>\n",
       "      <td>0.695208</td>\n",
       "      <td>0.695652</td>\n",
       "      <td>0.695707</td>\n",
       "      <td>0.695484</td>\n",
       "      <td>0.695075</td>\n",
       "      <td>0.694381</td>\n",
       "      <td>65.144</td>\n",
       "    </tr>\n",
       "    <tr>\n",
       "      <td>45</td>\n",
       "      <td>0.062052</td>\n",
       "      <td>0.061749</td>\n",
       "      <td>0.061598</td>\n",
       "      <td>0.061485</td>\n",
       "      <td>0.061281</td>\n",
       "      <td>0.061126</td>\n",
       "      <td>0.061176</td>\n",
       "      <td>0.061298</td>\n",
       "      <td>0.061361</td>\n",
       "      <td>0.061516</td>\n",
       "      <td>...</td>\n",
       "      <td>0.707183</td>\n",
       "      <td>0.708464</td>\n",
       "      <td>0.709389</td>\n",
       "      <td>0.710087</td>\n",
       "      <td>0.710465</td>\n",
       "      <td>0.710432</td>\n",
       "      <td>0.710324</td>\n",
       "      <td>0.709932</td>\n",
       "      <td>0.709275</td>\n",
       "      <td>65.519</td>\n",
       "    </tr>\n",
       "  </tbody>\n",
       "</table>\n",
       "<p>5 rows × 2101 columns</p>\n",
       "</div>"
      ],
      "text/plain": [
       "    m5_wl1100nm  m5_wl1102nm  m5_wl1104nm  m5_wl1106nm  m5_wl1108nm  \\\n",
       "50     0.046298     0.046143     0.046014     0.045938     0.045929   \n",
       "27     0.053283     0.053084     0.053001     0.052958     0.052980   \n",
       "30     0.032143     0.032039     0.031920     0.031856     0.031851   \n",
       "77     0.049717     0.049573     0.049471     0.049391     0.049386   \n",
       "45     0.062052     0.061749     0.061598     0.061485     0.061281   \n",
       "\n",
       "    m5_wl1110nm  m5_wl1112nm  m5_wl1114nm  m5_wl1116nm  m5_wl1118nm  ...  \\\n",
       "50     0.045919     0.045973     0.046115     0.046358     0.046696  ...   \n",
       "27     0.052963     0.053088     0.053320     0.053633     0.054047  ...   \n",
       "30     0.031851     0.031935     0.032040     0.032261     0.032582  ...   \n",
       "77     0.049382     0.049458     0.049639     0.049883     0.050283  ...   \n",
       "45     0.061126     0.061176     0.061298     0.061361     0.061516  ...   \n",
       "\n",
       "    mp6_wl2482nm  mp6_wl2484nm  mp6_wl2486nm  mp6_wl2488nm  mp6_wl2490nm  \\\n",
       "50      0.692214      0.693482      0.694446      0.695209      0.695613   \n",
       "27      0.777386      0.778539      0.779503      0.780110      0.780486   \n",
       "30      0.644735      0.645998      0.647045      0.647724      0.648107   \n",
       "77      0.692305      0.693519      0.694574      0.695208      0.695652   \n",
       "45      0.707183      0.708464      0.709389      0.710087      0.710465   \n",
       "\n",
       "    mp6_wl2492nm  mp6_wl2494nm  mp6_wl2496nm  mp6_wl2498nm  starch  \n",
       "50      0.695715      0.695498      0.695084      0.694521  64.915  \n",
       "27      0.780510      0.780258      0.779764      0.779079  65.601  \n",
       "30      0.648262      0.648119      0.647787      0.647291  64.420  \n",
       "77      0.695707      0.695484      0.695075      0.694381  65.144  \n",
       "45      0.710432      0.710324      0.709932      0.709275  65.519  \n",
       "\n",
       "[5 rows x 2101 columns]"
      ]
     },
     "execution_count": 3,
     "metadata": {},
     "output_type": "execute_result"
    }
   ],
   "source": [
    "# Shuffle dataset\n",
    "data = data.sample(frac=1)\n",
    "\n",
    "print('Dimensões:', data.shape)\n",
    "data.head()\n"
   ]
  },
  {
   "cell_type": "markdown",
   "metadata": {},
   "source": [
    " Redefinindo os índices para garantir que o acesso aos dados ocorra como gostaríamos."
   ]
  },
  {
   "cell_type": "code",
   "execution_count": 4,
   "metadata": {},
   "outputs": [
    {
     "data": {
      "text/html": [
       "<div>\n",
       "<style scoped>\n",
       "    .dataframe tbody tr th:only-of-type {\n",
       "        vertical-align: middle;\n",
       "    }\n",
       "\n",
       "    .dataframe tbody tr th {\n",
       "        vertical-align: top;\n",
       "    }\n",
       "\n",
       "    .dataframe thead th {\n",
       "        text-align: right;\n",
       "    }\n",
       "</style>\n",
       "<table border=\"1\" class=\"dataframe\">\n",
       "  <thead>\n",
       "    <tr style=\"text-align: right;\">\n",
       "      <th></th>\n",
       "      <th>m5_wl1100nm</th>\n",
       "      <th>m5_wl1102nm</th>\n",
       "      <th>m5_wl1104nm</th>\n",
       "      <th>m5_wl1106nm</th>\n",
       "      <th>m5_wl1108nm</th>\n",
       "      <th>m5_wl1110nm</th>\n",
       "      <th>m5_wl1112nm</th>\n",
       "      <th>m5_wl1114nm</th>\n",
       "      <th>m5_wl1116nm</th>\n",
       "      <th>m5_wl1118nm</th>\n",
       "      <th>...</th>\n",
       "      <th>mp6_wl2482nm</th>\n",
       "      <th>mp6_wl2484nm</th>\n",
       "      <th>mp6_wl2486nm</th>\n",
       "      <th>mp6_wl2488nm</th>\n",
       "      <th>mp6_wl2490nm</th>\n",
       "      <th>mp6_wl2492nm</th>\n",
       "      <th>mp6_wl2494nm</th>\n",
       "      <th>mp6_wl2496nm</th>\n",
       "      <th>mp6_wl2498nm</th>\n",
       "      <th>starch</th>\n",
       "    </tr>\n",
       "  </thead>\n",
       "  <tbody>\n",
       "    <tr>\n",
       "      <td>0</td>\n",
       "      <td>0.046298</td>\n",
       "      <td>0.046143</td>\n",
       "      <td>0.046014</td>\n",
       "      <td>0.045938</td>\n",
       "      <td>0.045929</td>\n",
       "      <td>0.045919</td>\n",
       "      <td>0.045973</td>\n",
       "      <td>0.046115</td>\n",
       "      <td>0.046358</td>\n",
       "      <td>0.046696</td>\n",
       "      <td>...</td>\n",
       "      <td>0.692214</td>\n",
       "      <td>0.693482</td>\n",
       "      <td>0.694446</td>\n",
       "      <td>0.695209</td>\n",
       "      <td>0.695613</td>\n",
       "      <td>0.695715</td>\n",
       "      <td>0.695498</td>\n",
       "      <td>0.695084</td>\n",
       "      <td>0.694521</td>\n",
       "      <td>64.915</td>\n",
       "    </tr>\n",
       "    <tr>\n",
       "      <td>1</td>\n",
       "      <td>0.053283</td>\n",
       "      <td>0.053084</td>\n",
       "      <td>0.053001</td>\n",
       "      <td>0.052958</td>\n",
       "      <td>0.052980</td>\n",
       "      <td>0.052963</td>\n",
       "      <td>0.053088</td>\n",
       "      <td>0.053320</td>\n",
       "      <td>0.053633</td>\n",
       "      <td>0.054047</td>\n",
       "      <td>...</td>\n",
       "      <td>0.777386</td>\n",
       "      <td>0.778539</td>\n",
       "      <td>0.779503</td>\n",
       "      <td>0.780110</td>\n",
       "      <td>0.780486</td>\n",
       "      <td>0.780510</td>\n",
       "      <td>0.780258</td>\n",
       "      <td>0.779764</td>\n",
       "      <td>0.779079</td>\n",
       "      <td>65.601</td>\n",
       "    </tr>\n",
       "    <tr>\n",
       "      <td>2</td>\n",
       "      <td>0.032143</td>\n",
       "      <td>0.032039</td>\n",
       "      <td>0.031920</td>\n",
       "      <td>0.031856</td>\n",
       "      <td>0.031851</td>\n",
       "      <td>0.031851</td>\n",
       "      <td>0.031935</td>\n",
       "      <td>0.032040</td>\n",
       "      <td>0.032261</td>\n",
       "      <td>0.032582</td>\n",
       "      <td>...</td>\n",
       "      <td>0.644735</td>\n",
       "      <td>0.645998</td>\n",
       "      <td>0.647045</td>\n",
       "      <td>0.647724</td>\n",
       "      <td>0.648107</td>\n",
       "      <td>0.648262</td>\n",
       "      <td>0.648119</td>\n",
       "      <td>0.647787</td>\n",
       "      <td>0.647291</td>\n",
       "      <td>64.420</td>\n",
       "    </tr>\n",
       "    <tr>\n",
       "      <td>3</td>\n",
       "      <td>0.049717</td>\n",
       "      <td>0.049573</td>\n",
       "      <td>0.049471</td>\n",
       "      <td>0.049391</td>\n",
       "      <td>0.049386</td>\n",
       "      <td>0.049382</td>\n",
       "      <td>0.049458</td>\n",
       "      <td>0.049639</td>\n",
       "      <td>0.049883</td>\n",
       "      <td>0.050283</td>\n",
       "      <td>...</td>\n",
       "      <td>0.692305</td>\n",
       "      <td>0.693519</td>\n",
       "      <td>0.694574</td>\n",
       "      <td>0.695208</td>\n",
       "      <td>0.695652</td>\n",
       "      <td>0.695707</td>\n",
       "      <td>0.695484</td>\n",
       "      <td>0.695075</td>\n",
       "      <td>0.694381</td>\n",
       "      <td>65.144</td>\n",
       "    </tr>\n",
       "    <tr>\n",
       "      <td>4</td>\n",
       "      <td>0.062052</td>\n",
       "      <td>0.061749</td>\n",
       "      <td>0.061598</td>\n",
       "      <td>0.061485</td>\n",
       "      <td>0.061281</td>\n",
       "      <td>0.061126</td>\n",
       "      <td>0.061176</td>\n",
       "      <td>0.061298</td>\n",
       "      <td>0.061361</td>\n",
       "      <td>0.061516</td>\n",
       "      <td>...</td>\n",
       "      <td>0.707183</td>\n",
       "      <td>0.708464</td>\n",
       "      <td>0.709389</td>\n",
       "      <td>0.710087</td>\n",
       "      <td>0.710465</td>\n",
       "      <td>0.710432</td>\n",
       "      <td>0.710324</td>\n",
       "      <td>0.709932</td>\n",
       "      <td>0.709275</td>\n",
       "      <td>65.519</td>\n",
       "    </tr>\n",
       "  </tbody>\n",
       "</table>\n",
       "<p>5 rows × 2101 columns</p>\n",
       "</div>"
      ],
      "text/plain": [
       "   m5_wl1100nm  m5_wl1102nm  m5_wl1104nm  m5_wl1106nm  m5_wl1108nm  \\\n",
       "0     0.046298     0.046143     0.046014     0.045938     0.045929   \n",
       "1     0.053283     0.053084     0.053001     0.052958     0.052980   \n",
       "2     0.032143     0.032039     0.031920     0.031856     0.031851   \n",
       "3     0.049717     0.049573     0.049471     0.049391     0.049386   \n",
       "4     0.062052     0.061749     0.061598     0.061485     0.061281   \n",
       "\n",
       "   m5_wl1110nm  m5_wl1112nm  m5_wl1114nm  m5_wl1116nm  m5_wl1118nm  ...  \\\n",
       "0     0.045919     0.045973     0.046115     0.046358     0.046696  ...   \n",
       "1     0.052963     0.053088     0.053320     0.053633     0.054047  ...   \n",
       "2     0.031851     0.031935     0.032040     0.032261     0.032582  ...   \n",
       "3     0.049382     0.049458     0.049639     0.049883     0.050283  ...   \n",
       "4     0.061126     0.061176     0.061298     0.061361     0.061516  ...   \n",
       "\n",
       "   mp6_wl2482nm  mp6_wl2484nm  mp6_wl2486nm  mp6_wl2488nm  mp6_wl2490nm  \\\n",
       "0      0.692214      0.693482      0.694446      0.695209      0.695613   \n",
       "1      0.777386      0.778539      0.779503      0.780110      0.780486   \n",
       "2      0.644735      0.645998      0.647045      0.647724      0.648107   \n",
       "3      0.692305      0.693519      0.694574      0.695208      0.695652   \n",
       "4      0.707183      0.708464      0.709389      0.710087      0.710465   \n",
       "\n",
       "   mp6_wl2492nm  mp6_wl2494nm  mp6_wl2496nm  mp6_wl2498nm  starch  \n",
       "0      0.695715      0.695498      0.695084      0.694521  64.915  \n",
       "1      0.780510      0.780258      0.779764      0.779079  65.601  \n",
       "2      0.648262      0.648119      0.647787      0.647291  64.420  \n",
       "3      0.695707      0.695484      0.695075      0.694381  65.144  \n",
       "4      0.710432      0.710324      0.709932      0.709275  65.519  \n",
       "\n",
       "[5 rows x 2101 columns]"
      ]
     },
     "execution_count": 4,
     "metadata": {},
     "output_type": "execute_result"
    }
   ],
   "source": [
    "# Reset index\n",
    "data = data.reset_index(drop=True)\n",
    "data.head()\n"
   ]
  },
  {
   "cell_type": "markdown",
   "metadata": {},
   "source": [
    " ## Separação em porções de treino e teste, treinamento de modelo e avaliação\n",
    "\n",
    " Aqui iremos fazer uma análise de performance muito simples. A ideia é separar o conjunto em porções de treino e teste. O teste nunca será utilizado para treinar o modelo, servindo apenas como indicativo de desempenho. Outras estratégia são preferíveis em situações reais para avaliação de desempenho, como por exemplo, a validação cruzada. No entanto, esse não é o nosso foco aqui. Passos a serem desenvolvidos:\n",
    "\n",
    " - Separação do conjunto em porções de treino e teste (80/20)\n",
    " - Definição de métricas de avaliação\n",
    " - Treinamento de regressor\n",
    " - Avaliação\n",
    "\n",
    " Primeiramente, tomaremos 80% das amostras para treinamento do modelo."
   ]
  },
  {
   "cell_type": "code",
   "execution_count": 5,
   "metadata": {},
   "outputs": [
    {
     "name": "stdout",
     "output_type": "stream",
     "text": [
      "Utilizaremos 64 amostras para treino!\n"
     ]
    }
   ],
   "source": [
    "threshold = int(round(0.8 * len(data)))\n",
    "print('Utilizaremos {} amostras para treino!'.format(threshold))\n"
   ]
  },
  {
   "cell_type": "markdown",
   "metadata": {},
   "source": [
    " ### Partições de treino e teste"
   ]
  },
  {
   "cell_type": "code",
   "execution_count": 6,
   "metadata": {},
   "outputs": [
    {
     "name": "stdout",
     "output_type": "stream",
     "text": [
      "Dimensões treino: (64, 2101)\n",
      "Dimensões teste: (16, 2101)\n"
     ]
    }
   ],
   "source": [
    "# Aqui estou transformando os DataFrames pandas para ndarrays\n",
    "# do numpy, tanto por desempenho quanto por conveniência\n",
    "tr = data.iloc[:threshold, :].values\n",
    "ts = data.iloc[threshold:, :].values\n",
    "\n",
    "print('Dimensões treino:', tr.shape)\n",
    "print('Dimensões teste:', ts.shape)\n"
   ]
  },
  {
   "cell_type": "markdown",
   "metadata": {},
   "source": [
    " Separação das features de treinamento e o atributo alvo."
   ]
  },
  {
   "cell_type": "code",
   "execution_count": 7,
   "metadata": {},
   "outputs": [],
   "source": [
    "X_tr, y_tr = tr[:, :-1], tr[:, -1]\n",
    "X_ts, y_ts = ts[:, :-1], ts[:, -1]\n"
   ]
  },
  {
   "cell_type": "markdown",
   "metadata": {},
   "source": [
    " ### Antes de continuar...\n",
    "\n",
    " Como iremos avaliar nosso futuro regressor? Nos dados de teste, certo? Mas e com que métricas de avaliação? Será que algumas são mais adequadas do que as outras dependendo do contexto?\n",
    "\n",
    " Avaliaremos duas possibilidades:\n",
    " - Root Mean Square Error (RMSE)\n",
    " - Relative Root Mean Square Error (RRMSE)\n",
    "\n",
    " #### RMSE\n",
    "\n",
    " Mede a raiz do desvio quadrático da previsão ($\\hat{y}$) para os valores esperados ($y$). Os valores resultantes estão na mesma escala do que o atributo alvo.\n",
    "\n",
    " \\begin{equation*}\n",
    "     \\text{RMSE} = \\sqrt{\\frac{\\sum_{i}^{n}(y_i - \\hat{y}_i)^2}{n}}\n",
    " \\end{equation*}\n",
    "\n",
    " #### RRMSE\n",
    "\n",
    " Compara o RMSE do preditor contra um baseline (que é a média da variável alvo). Não possui escala, mas permite interpretações interessantes. Por exemplo, um $\\text{RRMSE} \\ge 1$ implica que o regressor é pior ou tão ruim quanto o baseline (sempre \"chutar\" na média).\n",
    "\n",
    " \\begin{equation*}\n",
    "     \\text{RRMSE} = \\sqrt{\\frac{\\sum_{i}^{n}(y_i - \\hat{y}_i)^2}{\\sum_{i}^{n} (y_i - \\overline{y})^2}}\n",
    " \\end{equation*}\n",
    "\n",
    " Implementações:"
   ]
  },
  {
   "cell_type": "code",
   "execution_count": 8,
   "metadata": {},
   "outputs": [],
   "source": [
    "def RMSE(obs, pred):\n",
    "    return np.sqrt(np.sum((obs - pred) ** 2) / len(obs))\n",
    "\n",
    "def RRMSE(obs, pred):\n",
    "    # Adicionamos uma pequena constante (10^{-6}) no numerador e denominador\n",
    "    # para evitar possíveis divisões por zero\n",
    "    num = np.sum((obs - pred) ** 2) + 1e-6\n",
    "    den = np.sum((obs - np.mean(obs)) ** 2) + 1e-6\n",
    "    \n",
    "    return np.sqrt(num / den)\n"
   ]
  },
  {
   "cell_type": "markdown",
   "metadata": {},
   "source": [
    " ### Normalizando dados e treinando uma DT:"
   ]
  },
  {
   "cell_type": "code",
   "execution_count": 9,
   "metadata": {},
   "outputs": [
    {
     "data": {
      "text/plain": [
       "DecisionTreeRegressor(criterion='mse', max_depth=4, max_features=None,\n",
       "                      max_leaf_nodes=None, min_impurity_decrease=0.0,\n",
       "                      min_impurity_split=None, min_samples_leaf=1,\n",
       "                      min_samples_split=2, min_weight_fraction_leaf=0.0,\n",
       "                      presort=False, random_state=None, splitter='best')"
      ]
     },
     "execution_count": 9,
     "metadata": {},
     "output_type": "execute_result"
    }
   ],
   "source": [
    "scaler_x = StandardScaler()\n",
    "scaler_y = StandardScaler()\n",
    "X_tr = scaler_x.fit_transform(X_tr)\n",
    "y_tr = scaler_y.fit_transform(y_tr.reshape(-1, 1))[:, 0]\n",
    "\n",
    "dt = DecisionTreeRegressor(max_depth=4)\n",
    "dt.fit(X_tr, y_tr)\n"
   ]
  },
  {
   "cell_type": "markdown",
   "metadata": {},
   "source": [
    " ### Avaliando o modelo treinado\n",
    "\n",
    " Aqui, **aplicamos** a mesma estratégia de normalização nos dados de teste antes de submetê-los ao modelo treinado."
   ]
  },
  {
   "cell_type": "code",
   "execution_count": 10,
   "metadata": {},
   "outputs": [],
   "source": [
    "X_ts = scaler_x.transform(X_ts)\n",
    "predictions_orig = dt.predict(X_ts)\n",
    "predictions_orig = scaler_y.inverse_transform(predictions_orig.reshape(-1, 1))[:, 0]"
   ]
  },
  {
   "cell_type": "code",
   "execution_count": 11,
   "metadata": {},
   "outputs": [
    {
     "data": {
      "text/plain": [
       "array([64.92757143, 64.47071429, 66.472     , 64.47071429, 65.16557143,\n",
       "       65.7995    , 65.2705    , 64.92757143, 64.47071429, 64.407     ,\n",
       "       64.92757143, 65.371     , 64.47071429, 65.2705    , 64.92757143,\n",
       "       63.28366667])"
      ]
     },
     "execution_count": 11,
     "metadata": {},
     "output_type": "execute_result"
    }
   ],
   "source": [
    "predictions_orig"
   ]
  },
  {
   "cell_type": "markdown",
   "metadata": {},
   "source": [
    " E calculamos os erros obtidos:\n",
    "\n",
    "\n",
    " #### RMSE"
   ]
  },
  {
   "cell_type": "code",
   "execution_count": 12,
   "metadata": {},
   "outputs": [
    {
     "name": "stdout",
     "output_type": "stream",
     "text": [
      "RMSE: 0.9979204392405914\n"
     ]
    }
   ],
   "source": [
    "print('RMSE:', RMSE(y_ts, predictions_orig))"
   ]
  },
  {
   "cell_type": "markdown",
   "metadata": {},
   "source": [
    " Será que estamos indo bem? Que tal olhar os ranges?"
   ]
  },
  {
   "cell_type": "code",
   "execution_count": 13,
   "metadata": {},
   "outputs": [
    {
     "name": "stdout",
     "output_type": "stream",
     "text": [
      "Range dos dados de treinamento: 4.73246234746976\n",
      "Range dos dados de teste: 2.9110000000000085\n"
     ]
    }
   ],
   "source": [
    "print('Range dos dados de treinamento:', max(y_tr) - min(y_tr))\n",
    "print('Range dos dados de teste:', max(y_ts) - min(y_ts))"
   ]
  },
  {
   "cell_type": "markdown",
   "metadata": {},
   "source": [
    " Parece que o erro aparentemente baixo não foi tão baixo assim.\n",
    "\n",
    " Agora iremos avaliar o nosso modelo na presença de um baseline:\n",
    "\n",
    " #### RRMSE"
   ]
  },
  {
   "cell_type": "code",
   "execution_count": 14,
   "metadata": {},
   "outputs": [
    {
     "name": "stdout",
     "output_type": "stream",
     "text": [
      "RRMSE: 1.0566776323700506\n"
     ]
    }
   ],
   "source": [
    "print('RRMSE:', RRMSE(y_ts, predictions_orig))"
   ]
  },
  {
   "cell_type": "markdown",
   "metadata": {},
   "source": [
    " ### Conclusão:\n",
    "\n",
    " ~~Teria sido melhor ir assistir o filme do Pelé.~~ Teria sido melhor sempre chutar a média do conjunto de teste. :/\n",
    "\n",
    " Mas e agora? O que fazer? Por que um modelo dito robusto e acurado se saiu tão mal?\n",
    "\n",
    " O que estamos deixando passar?\n",
    "\n",
    " #### Hipóteses:\n",
    "\n",
    " - ~~Problema de um milhão de dólares!~~ (pouco provável)\n",
    " - ~~Bug do sklearn~~ (pode acontecer, mas pouco provável nesse caso)\n",
    " - ~~Problema na pecinha atrás do computador~~ (acontece com bastante frequência, mas não é o caso dessa vez)\n",
    " - Dados? Poucas amostras para treinamento? $\\rightarrow$ pode ser um caminho...\n",
    " - Forma como tratamos os dados $\\rightarrow$ pré-processamento?\n",
    "     * Muito provável!\n",
    "\n",
    "\n",
    " Vamos voltar ao princípio, analisando os dados:"
   ]
  },
  {
   "cell_type": "code",
   "execution_count": 15,
   "metadata": {},
   "outputs": [
    {
     "data": {
      "text/plain": [
       "(64, 2101)"
      ]
     },
     "execution_count": 15,
     "metadata": {},
     "output_type": "execute_result"
    }
   ],
   "source": [
    "# Dimensões dos dados de treinamento\n",
    "tr.shape"
   ]
  },
  {
   "cell_type": "markdown",
   "metadata": {},
   "source": [
    " ### Algo estranho?\n",
    "\n",
    " Sim!!! Temos muito mais descritores do que amostras. Uma alternativa pode ser utilizar um extrator de features, já que nesse contexto estamos mais interessados em predizer a propriedade do que interpretar os atributos que estamos utilizando para tal tarefa.\n",
    "\n",
    " Utilizaremos a Principal Component Analysis ([PCA](https://towardsdatascience.com/a-step-by-step-explanation-of-principal-component-analysis-b836fb9c97e2)) para esse fim!\n",
    "\n",
    " (peço desculpas pela más prática de programação a seguir -- importando novos pacotes)"
   ]
  },
  {
   "cell_type": "code",
   "execution_count": 16,
   "metadata": {},
   "outputs": [],
   "source": [
    "import matplotlib.pyplot as plt # Biblioteca para a construção de gráficos\n",
    "from sklearn.decomposition import PCA"
   ]
  },
  {
   "cell_type": "code",
   "execution_count": 17,
   "metadata": {},
   "outputs": [],
   "source": [
    "# Definindo novos conjuntos de treinamento\n",
    "X_tr_pca = tr[:, :-1]\n",
    "X_ts_pca = ts[:, :-1]\n",
    "\n",
    "scaler_x_pca = StandardScaler()\n",
    "X_tr_pca = scaler_x_pca.fit_transform(X_tr_pca)\n",
    "X_ts_pca = scaler_x_pca.transform(X_ts_pca)\n"
   ]
  },
  {
   "cell_type": "markdown",
   "metadata": {},
   "source": [
    " ### Vamos fazer alguns testes com a PCA"
   ]
  },
  {
   "cell_type": "code",
   "execution_count": 18,
   "metadata": {},
   "outputs": [
    {
     "data": {
      "text/plain": [
       "PCA(copy=True, iterated_power='auto', n_components=None, random_state=None,\n",
       "    svd_solver='auto', tol=0.0, whiten=False)"
      ]
     },
     "execution_count": 18,
     "metadata": {},
     "output_type": "execute_result"
    }
   ],
   "source": [
    "# Começamos chutando alto => n_components == número de amostras (máximo permitido pelo sklearn)\n",
    "pca = PCA()\n",
    "pca.fit(X_tr_pca)"
   ]
  },
  {
   "cell_type": "markdown",
   "metadata": {},
   "source": [
    " Antes de utilizarmos tantos componentes, que tal avaliarmos a **variância dos dados** que cada um deles explica (em %)?"
   ]
  },
  {
   "cell_type": "code",
   "execution_count": 19,
   "metadata": {},
   "outputs": [
    {
     "data": {
      "image/png": "[encoded data removed]",
      "text/plain": [
       "<Figure size 720x360 with 1 Axes>"
      ]
     },
     "metadata": {
      "needs_background": "light"
     },
     "output_type": "display_data"
    }
   ],
   "source": [
    "fig, ax = plt.subplots(figsize=(10, 5))\n",
    "ax.plot([i + 1 for i in range(len(pca.explained_variance_ratio_))], 100 * pca.explained_variance_ratio_, 'b-')\n",
    "ax.set_xlabel('Componentes')\n",
    "ax.set_ylabel('% da variância explicada')\n",
    "pass\n"
   ]
  },
  {
   "cell_type": "markdown",
   "metadata": {},
   "source": [
    " #### Parece haver uma queda vertiginosa! Vamos explorar do ponto de vista cumulativo."
   ]
  },
  {
   "cell_type": "code",
   "execution_count": 20,
   "metadata": {},
   "outputs": [
    {
     "name": "stdout",
     "output_type": "stream",
     "text": [
      "Primeiros elementos [96.71311686 98.36254659 99.32135205 99.56146196 99.76429908 99.86628713\n",
      " 99.90018263 99.93236289 99.95569175 99.96827882 99.97993207 99.98720371\n",
      " 99.99008989 99.99256241 99.99399365 99.995182   99.99602121 99.99670565\n",
      " 99.99723513 99.99762539]\n"
     ]
    },
    {
     "data": {
      "image/png": "[encoded data removed]",
      "text/plain": [
       "<Figure size 720x360 with 1 Axes>"
      ]
     },
     "metadata": {
      "needs_background": "light"
     },
     "output_type": "display_data"
    }
   ],
   "source": [
    "print('Primeiros elementos', (100 * pca.explained_variance_ratio_.cumsum())[:20])\n",
    "fig, ax = plt.subplots(figsize=(10, 5))\n",
    "ax.plot([i + 1 for i in range(len(pca.explained_variance_ratio_))], 100 * pca.explained_variance_ratio_.cumsum(), 'b-')\n",
    "ax.axvline(2, color='green')\n",
    "ax.axvline(10, color='yellow')\n",
    "ax.axvline(20, color='red')\n",
    "ax.set_xlabel('Componentes')\n",
    "ax.set_ylabel('% da variância explicada')\n",
    "pass\n"
   ]
  },
  {
   "cell_type": "markdown",
   "metadata": {},
   "source": [
    " ### Vamos tentar utilizar menos componentes?\n",
    "\n",
    " Normalmente, buscamos a quantidade de componentes que explicam entre 95-99% da variância dos dados (experiência própria). O restante normalmente está capturando variações de ruído ou outros aspectos que não nos interessam. Nesse caso empíricamente escolhi os 10 primeiros componentes (um pouco exagerado até, talvez). Os resultados foram bem melhores para a RF. Decidi adicionar um modelo linear e aumentar para 15 e depois 20 componentes. Os resultados surpreenderam.\n",
    "\n",
    " Sugiro testarem outros valores e avaliarem os resultados obtidos.\n"
   ]
  },
  {
   "cell_type": "code",
   "execution_count": 21,
   "metadata": {},
   "outputs": [],
   "source": [
    "pca = PCA(n_components=20)\n",
    "\n",
    "X_tr_pca = pca.fit_transform(X_tr_pca)\n",
    "X_ts_pca = pca.transform(X_ts_pca)\n",
    "\n"
   ]
  },
  {
   "cell_type": "code",
   "execution_count": 22,
   "metadata": {},
   "outputs": [
    {
     "data": {
      "text/plain": [
       "(64, 20)"
      ]
     },
     "execution_count": 22,
     "metadata": {},
     "output_type": "execute_result"
    }
   ],
   "source": [
    "X_tr_pca.shape\n"
   ]
  },
  {
   "cell_type": "markdown",
   "metadata": {},
   "source": [
    " #### Voltando à RF"
   ]
  },
  {
   "cell_type": "code",
   "execution_count": 23,
   "metadata": {},
   "outputs": [
    {
     "name": "stdout",
     "output_type": "stream",
     "text": [
      "RMSE da RF: 0.7463076722491517\n",
      "RRMSE da RF: 0.790250016555675\n"
     ]
    }
   ],
   "source": [
    "dt_pca = DecisionTreeRegressor(max_depth=4)\n",
    "dt_pca.fit(X_tr_pca, y_tr)\n",
    "preds_rf = dt_pca.predict(X_ts_pca)\n",
    "preds_rf = scaler_y.inverse_transform(preds_rf.reshape(-1, 1))[:, 0]\n",
    "\n",
    "print('RMSE da RF:', RMSE(y_ts, preds_rf))\n",
    "print('RRMSE da RF:', RRMSE(y_ts, preds_rf))\n"
   ]
  },
  {
   "cell_type": "markdown",
   "metadata": {},
   "source": [
    " #### \"Avacalhation\" time\n",
    "\n",
    " Vamos treinar uma simples regressão linear"
   ]
  },
  {
   "cell_type": "code",
   "execution_count": 24,
   "metadata": {},
   "outputs": [
    {
     "name": "stdout",
     "output_type": "stream",
     "text": [
      "RMSE da LR: 0.37561323876721775\n",
      "RRMSE da LR: 0.3977292855001388\n"
     ]
    }
   ],
   "source": [
    "from sklearn.linear_model import LinearRegression\n",
    "lr = LinearRegression()\n",
    "lr.fit(X_tr_pca, y_tr)\n",
    "\n",
    "preds_lr = lr.predict(X_ts_pca)\n",
    "preds_lr = scaler_y.inverse_transform(preds_lr.reshape(-1, 1))[:, 0]\n",
    "print('RMSE da LR:', RMSE(y_ts, preds_lr))\n",
    "print('RRMSE da LR:', RRMSE(y_ts, preds_lr))\n",
    "\n"
   ]
  },
  {
   "cell_type": "code",
   "execution_count": 29,
   "metadata": {},
   "outputs": [
    {
     "data": {
      "text/plain": [
       "array([ 1.36556543e-03, -1.44606694e-02,  2.40548681e-02, -7.01287594e-02,\n",
       "        1.79961690e-01, -1.15146765e-02, -3.59760056e-01, -2.51777122e-02,\n",
       "        6.03110953e-01,  5.12555987e-01,  3.48266724e-01, -1.07716796e+00,\n",
       "       -1.69779481e-01, -1.16358924e+00, -9.46780280e-01,  4.63364261e-01,\n",
       "        1.52624574e+00,  2.57797153e-01, -8.25794923e-01,  1.96831398e+00])"
      ]
     },
     "execution_count": 29,
     "metadata": {},
     "output_type": "execute_result"
    }
   ],
   "source": [
    "lr.coef_\n"
   ]
  },
  {
   "cell_type": "markdown",
   "metadata": {},
   "source": [
    " # Considerações finais\n",
    "\n",
    " - Problema linear! $\\rightarrow$ viés de aprendizado do algoritmo não adequado ao problema, dadas as características do dataset.\n",
    "     * Como traçar uma reta usando retângulos? :D\n",
    "\n",
    " A utilização de pré-processamento com PCA foi essencial para diminuir o erro preditivo!\n",
    " - Os modelos finais conseguiram melhor e muito o desempenho do baseline\n",
    "     * Importância da utilização de métricas adequadas para avaliação."
   ]
  },
  {
   "cell_type": "code",
   "execution_count": null,
   "metadata": {},
   "outputs": [],
   "source": []
  }
 ],
 "metadata": {
  "file_extension": ".py",
  "kernelspec": {
   "display_name": "Python 3",
   "language": "python",
   "name": "python3"
  },
  "language_info": {
   "codemirror_mode": {
    "name": "ipython",
    "version": 3
   },
   "file_extension": ".py",
   "mimetype": "text/x-python",
   "name": "python",
   "nbconvert_exporter": "python",
   "pygments_lexer": "ipython3",
   "version": "3.6.8"
  },
  "mimetype": "text/x-python",
  "name": "python",
  "npconvert_exporter": "python",
  "pygments_lexer": "ipython3",
  "version": 3
 },
 "nbformat": 4,
 "nbformat_minor": 2
}
